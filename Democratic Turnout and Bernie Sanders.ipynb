{
 "cells": [
  {
   "cell_type": "markdown",
   "metadata": {},
   "source": [
    "## Is Bernie driving higher election turnout?\n",
    "\n",
    "As a glum Warren supporter, I don't know who to vote for. Key to the pro-Bernie argument is the idea that he will inspire a surge of voters. If that is true, I would expect to see signatures of that at the primary level as well: overall primary turnout should be relatively high compared to previous years (because of all the inspired Bernie voters) and there should be a positive correlation between the degree of Bernie support and the increased turnout (see caveats toward the end of the notebook). I tried to see if the available turnout numbers support this idea.\n",
    "\n",
    "I chose to plot **Democratic turnout**, defined as the number of ballots cast in the democratic primary/caucus of a state divided by the Voting Eligible Population, which as far as I understand includes voters of all parties. This makes sense to me because if Bernie is expanding the tent of the Democratic party then that's the relevant denominator.\n",
    "\n",
    "I got voter turnout data from The US Elections Project http://www.electproject.org/home/voter-turnout/voter-turnout-data. In cases where there were multiple reported primaries (e.g. WA state's nonbinding straw poll and Nevada's nonbinding election) I chose the vote that actually led to delegates.\n",
    "\n",
    "I got data for Bernie's share of the vote in each state from Wikipedia: https://en.wikipedia.org/wiki/Results_of_the_2020_Democratic_Party_presidential_primaries"
   ]
  },
  {
   "cell_type": "code",
   "execution_count": null,
   "metadata": {},
   "outputs": [],
   "source": [
    "import numpy as np\n",
    "import matplotlib.pyplot as plt\n",
    "import pandas as pd\n",
    "import matplotlib.colors as colors\n",
    "import matplotlib as mpl\n",
    "import re\n",
    "import matplotlib.offsetbox as offsetbox"
   ]
  },
  {
   "cell_type": "code",
   "execution_count": null,
   "metadata": {},
   "outputs": [],
   "source": [
    "# H/T to StackOverflow user rtaft for this function\n",
    "# https://stackoverflow.com/a/45846841\n",
    "def human_format(num):\n",
    "    num = float('{:.2g}'.format(num))\n",
    "    magnitude = 0\n",
    "    while abs(num) >= 1000:\n",
    "        magnitude += 1\n",
    "        num /= 1000.0\n",
    "    return '{}{}'.format('{:f}'.format(num).rstrip('0').rstrip('.'), ['', 'K', 'M', 'B', 'T'][magnitude])"
   ]
  },
  {
   "cell_type": "code",
   "execution_count": null,
   "metadata": {},
   "outputs": [],
   "source": [
    "turnout_data = pd.read_csv('./DemPrimaryTurnout.csv')\n",
    "bernie_data = pd.read_csv('./BernieData.csv')\n",
    "\n",
    "# Make a list of states that have already voted in 2020 (where I have a number for the ballots completely counted)\n",
    "states_already_voted = turnout_data.loc[(turnout_data['Year']==2020) & (turnout_data['D_Ballots_Counted'].notnull()),\n",
    "                                        'State']\n",
    "# Make a list of states that Bernie has for-sure won (i.e. all ballots counted)\n",
    "states_bernie_won = bernie_data.loc[(bernie_data['Year']==2020) & (bernie_data['Bernie_Won']),'State']\n",
    "# Make State and Year into a multi-index for turnout_data to allow easy indexing by these variables\n",
    "turnout_data.set_index(['State','Year'],inplace=True)\n",
    "bernie_data.set_index(['State','Year'], inplace=True)\n",
    "#Note, it's critical to sort the index to make sure the two dataframes match up!\n",
    "turnout_data = turnout_data.sort_index()\n",
    "bernie_data = bernie_data.sort_index()\n",
    "print(states_already_voted)\n",
    "print(states_bernie_won)"
   ]
  },
  {
   "cell_type": "code",
   "execution_count": null,
   "metadata": {},
   "outputs": [],
   "source": [
    "#Dem turnout is number of ballots cast in democratic primary divided by voting eligible population (x 100 for %ile)\n",
    "turnout_data['dem_turnout'] = 100*(turnout_data['D_Ballots_Counted'] / turnout_data['VEP'])\n",
    "turnout_data['relative_VEP'] = turnout_data['VEP'] / turnout_data.groupby(['Year']).VEP.max()"
   ]
  },
  {
   "cell_type": "code",
   "execution_count": null,
   "metadata": {},
   "outputs": [],
   "source": [
    "# Some plot formatting\n",
    "font = {'family': 'Arial',\n",
    "        'size': 16}\n",
    "mpl.rc('font',**font)\n",
    "bernie_cmap = plt.cm.Blues\n",
    "bernie_cmap.set_bad(color='grey') #Not sure if this works, but hopefully set NaN to grey?\n",
    "# Choose display range for Bernie's vote share. Some states (e.g. VT) are outside this range but it was really\n",
    "# hard to see trends without restricting this range somewhat\n",
    "cmap_norm = colors.Normalize(vmin=10,vmax=40)"
   ]
  },
  {
   "cell_type": "code",
   "execution_count": null,
   "metadata": {},
   "outputs": [],
   "source": [
    "xaxis_year = [2008,2016]\n",
    "yaxis_year = 2020\n",
    "\n",
    "fig,ax = plt.subplots(nrows=2,ncols=1,figsize=(8,10),constrained_layout=True)\n",
    "\n",
    "#Plot turnout. Scale dots by VEP in that state, color by Bernie's share of the vote\n",
    "scatter = []\n",
    "for p in range(2):\n",
    "    # Plot voter turnout for one year vs the other. Size dots by voting eligible population, \n",
    "    # color by Bernie's vote share\n",
    "    scatter.append(ax[p].scatter(turnout_data.loc[(states_already_voted, xaxis_year[p]), 'dem_turnout'],\n",
    "                                 turnout_data.loc[(states_already_voted, yaxis_year),    'dem_turnout'],\n",
    "                                 s = 400*turnout_data.loc[(states_already_voted, 2020),'relative_VEP'],\n",
    "                                 c = 100*bernie_data.loc[(states_already_voted, 2020), 'Percent_Bernie'],\n",
    "                                 cmap=bernie_cmap, norm=cmap_norm))\n",
    "    # Put a box around states that Bernie has won\n",
    "    boxes = ax[p].scatter(turnout_data.loc[(states_bernie_won, xaxis_year[p]), 'dem_turnout'],\n",
    "                          turnout_data.loc[(states_bernie_won, yaxis_year), 'dem_turnout'],\n",
    "                          s = 3000*turnout_data.loc[(states_bernie_won, 2020), 'relative_VEP'],\n",
    "                          facecolors='none', edgecolor='k', linewidth=1, marker='s')\n",
    "    ax[p].plot([0,30],[0,30],'k--')\n",
    "    ax[p].set_xlabel('{} Dem Turnout (% of voting-eligible pop.)'.format(xaxis_year[p]))\n",
    "    ax[p].set_ylabel('{} Dem Turnout\\n(% of voting-eligible pop.)'.format(yaxis_year))\n",
    "    ax[p].set_title('{} vs. {}'.format(yaxis_year, xaxis_year[p]))\n",
    "\n",
    "# Legend for population size (VEP)\n",
    "handles, labels = scatter[1].legend_elements(prop=\"sizes\", alpha=0.6)\n",
    "#Convert labels in arbitrary units back to population numbers\n",
    "labels_as_int = np.array([int(re.findall(r'\\d+', s)[0]) for s in labels])\n",
    "true_label_as_number = (turnout_data.groupby(['Year']).VEP.max()[2020]/400)*labels_as_int\n",
    "true_labels = [human_format(n) for n in true_label_as_number]\n",
    "legend2 = ax[1].legend(handles[::2], true_labels[::2],bbox_to_anchor=[1.01,.99], \n",
    "                       title=\"2020\\nVoting\\nEligible\\nPopulation\")\n",
    "ax[1].add_artist(legend2)\n",
    "\n",
    "# Legend for 'Bernie-won' boxes\n",
    "sq2 = mpl.patches.Rectangle((0,0),1,10,fill=None,edgecolor='k',label='Bernie\\nwon')\n",
    "ax[1].legend(loc=3,handles=[sq2],handlelength=.7,bbox_to_anchor=[1.01,.01])\n",
    "\n",
    "# Colorbar for showing Bernie's vote share\n",
    "x = mpl.cm.ScalarMappable(norm=cmap_norm, cmap=bernie_cmap)\n",
    "x.set_array([])\n",
    "cbar = fig.colorbar(x,ax=ax[0])\n",
    "cbar.set_label('Bernie\\'s 2020 vote share (%)')\n",
    "cbar.set_ticks([10,20,30,40])\n",
    "cbar.set_ticklabels(['$\\\\mathdefault{\\leq10}$','20','30','$\\\\mathdefault{\\geq40}$'])\n",
    "\n",
    "suptitle_font = {'weight': 'bold'}\n",
    "fig.suptitle('State-by-state turnout in Democratic primaries',fontweight='bold')\n",
    "plt.show()"
   ]
  },
  {
   "cell_type": "markdown",
   "metadata": {},
   "source": [
    "I have two takeaways:\n",
    "  1. I have been hearing a lot of talk about turnout not being amazing in the primaries. While turnout generally has not reached 2008 levels of enthusiasm, it is encouraging that a larger fraction of the electorate is voting than in 2016! \n",
    "  2. The correlation between strong Bernie support and voter turnout is not strong. There are some states that are doing well there but they need to be a bit stronger\n",
    "  \n",
    "As a control for big changes in the denominator (the voting eligible population), I plotted the VEP for 2008 and 2016 against 2020. It seems like overall the correlation is pretty tight; the bigger states in the mix seem to have grown a lot, e.g. Texas I think?"
   ]
  },
  {
   "cell_type": "code",
   "execution_count": null,
   "metadata": {},
   "outputs": [],
   "source": [
    "fig,ax = plt.subplots(nrows=1,ncols=2,figsize=(10,5))\n",
    "ax[0].scatter(turnout_data.loc[(states_already_voted, 2008), 'VEP']/1e6,\n",
    "              turnout_data.loc[(states_already_voted, 2020), 'VEP']/1e6)\n",
    "ax[0].plot([0,18],[0,18],'k--')\n",
    "ax[0].set_xlabel('2008 Voting eligible pop. (millions)')\n",
    "ax[0].set_ylabel('2020 Voting eligible pop. (millions)')\n",
    "ax[1].scatter(turnout_data.loc[(states_already_voted, 2016), 'VEP']/1e6,\n",
    "              turnout_data.loc[(states_already_voted, 2020), 'VEP']/1e6)\n",
    "ax[1].plot([0,18],[0,18],'k--')\n",
    "ax[1].set_xlabel('2016 Voting eligible pop. (millions)')"
   ]
  },
  {
   "cell_type": "markdown",
   "metadata": {},
   "source": [
    "The biggest outlier is Minnesota, which is because they switched from primary to caucus. Virginia also had a big bump in voting, though that state was noteable for going towards Biden."
   ]
  },
  {
   "cell_type": "code",
   "execution_count": null,
   "metadata": {},
   "outputs": [],
   "source": [
    "#Display democratic turnout percentage for each states so far in the primary and each race.\n",
    "turnout_data.loc[(states_already_voted,slice(None)),'dem_turnout'].unstack(level=1)"
   ]
  },
  {
   "cell_type": "markdown",
   "metadata": {},
   "source": [
    "What about comparing the 2008 primary and the 2016 primary? At least there we have information from all the states. Again this doesn't seem to paint a super clear picture of a voter surge in states that Bernie did really well in.\n",
    "\n",
    "The major outlier here is Michigan (the bigger gray dot above the line; the other dot above the line is New Mexico). I think this is probably the clearest the idea of a Bernie surge gets? And the interpretation is that this state would have gone to Clinton but the Bernie surge made it competitive in addition to dramatically increasing the vote tally there. There are also a bunch of very low-dem turnout states where Bernie actually did quite well, but in the electoral college system I am doubtful that that counts for much.\n",
    "\n",
    "Overall I don't buy a nationwide trend of a game-changing Bernie surge with a clear indicator of it in just one state"
   ]
  },
  {
   "cell_type": "code",
   "execution_count": null,
   "metadata": {},
   "outputs": [],
   "source": [
    "xaxis_year = 2008\n",
    "yaxis_year = 2016\n",
    "cmap_norm = colors.TwoSlopeNorm(vmin=10,vcenter=50,vmax=80)\n",
    "fig,ax = plt.subplots(figsize=(8,6),constrained_layout=True)\n",
    "\n",
    "#Plot turnout. Scale dots by VEP in that state, color by Bernie's share of the vote\n",
    "scatter = ax.scatter(turnout_data.loc[(slice(None), xaxis_year), 'dem_turnout'],\n",
    "                     turnout_data.loc[(slice(None), yaxis_year),    'dem_turnout'],\n",
    "                     s = 400*turnout_data.loc[(slice(None), 2016),'relative_VEP'],\n",
    "                     c = 100*bernie_data.loc[(slice(None), 2016), 'Percent_Bernie'],\n",
    "                     cmap='coolwarm', norm=cmap_norm)\n",
    "ax.plot([0,30],[0,30],'k--')\n",
    "ax.set_xlabel('{} Dem Turnout (% of voting-eligible pop.)'.format(xaxis_year))\n",
    "ax.set_ylabel('{} Dem Turnout\\n(% of voting-eligible pop.)'.format(yaxis_year))\n",
    "ax.set_title('{} vs. {}'.format(yaxis_year, xaxis_year))\n",
    "\n",
    "#Legend for population size (VEP)\n",
    "handles, labels = scatter.legend_elements(prop=\"sizes\", alpha=0.6)\n",
    "#Convert labels in arbitrary units back to population numbers\n",
    "labels_as_int = np.array([int(re.findall(r'\\d+', s)[0]) for s in labels])\n",
    "true_label_as_number = (turnout_data.groupby(['Year']).VEP.max()[2016]/400)*labels_as_int\n",
    "true_labels = [human_format(n) for n in true_label_as_number]\n",
    "legend2 = ax.legend(handles[::2], true_labels[::2],bbox_to_anchor=[1.01,.95], \n",
    "                       title=\"2016\\nVoting\\nEligible\\nPopulation\")\n",
    "\n",
    "#Colorbar for showing Bernie's vote share\n",
    "x = mpl.cm.ScalarMappable(norm=cmap_norm, cmap='coolwarm')\n",
    "x.set_array([])\n",
    "cbar = fig.colorbar(x, ax=ax)\n",
    "cbar.set_label('Bernie\\'s 2016 vote share (%)')\n",
    "#cbar.set_ticks([10,20,30,40])\n",
    "#cbar.set_ticklabels(['$\\\\mathdefault{\\leq10}$','20','30','$\\\\mathdefault{\\geq40}$'])\n",
    "\n",
    "suptitle_font = {'weight': 'bold'}\n",
    "fig.suptitle('State-by-state turnout in Democratic primaries',fontweight='bold')\n",
    "plt.show()"
   ]
  },
  {
   "cell_type": "markdown",
   "metadata": {},
   "source": [
    "Try plotting Bernie support vs. turnout directly for 2016: subtract the percent turnout in 2008 from the percent turnout in 2016, and then plot Bernie's share of the vote against that. I would expect that if Bernie was drawing supporters out then there should be a positive correlation between Bernie's voter share and voter turnout in that state. Alternative possibilities\n",
    "  1. That state already has high turnout and is generally favorable to Bernie (e.g. VT). The argument for Bernie as a turnout-candidate is not helped a lot by these states: there is no _increase_ in voter turnout because of Bernie.\n",
    "  2. Bernie does not win the election in a state (or come close), but he puts up a surprisingly good fight by drawing voters in. In this situation turnout is high but Bernie's share is not. If that's the case you might expect that turnout would be high relative to another election, e.g. 2008. This happens in two states: Michigan and New Mexico. It is an interesting signal for Bernie's candidacy that he drove up turnout in a purple-ish state like MI, but it doesn't seem to have replicated in any other states with similar profiles and importance in the electoral college.\n",
    "  3. It is also possible that Bernie does inspire higher turnout from his supporters, but also from never-Bernie voters, so voter turnout also increases as vote share for Bernie decreases. If this is the case the two effects could wash each other out and show little correlation between Bernie vote share and turnout. This would not be a great argument in support of Bernie: if he is already polarizing on the left and his base is not large enough to dominate in the primaries it is unclear how he will do in the general."
   ]
  },
  {
   "cell_type": "code",
   "execution_count": null,
   "metadata": {},
   "outputs": [],
   "source": [
    "turnout_difference = turnout_data.loc[(slice(None),2016),'dem_turnout'].to_numpy() - turnout_data.loc[(slice(None),2008),'dem_turnout'].to_numpy()\n",
    "fig, ax = plt.subplots(figsize=(6,6),constrained_layout=True)\n",
    "scatter = ax.scatter(turnout_difference,\n",
    "                     100*bernie_data.loc[(slice(None),2016),'Percent_Bernie'],\n",
    "                     s=400*turnout_data.loc[(slice(None), 2016),'relative_VEP'])\n",
    "ax.set_xlabel('2016 turnout relative to 2008 (percentile)')\n",
    "ax.set_ylabel('Bernie 2016 vote share (percent)')\n",
    "plt.show()"
   ]
  }
 ],
 "metadata": {
  "kernelspec": {
   "display_name": "Python 3",
   "language": "python",
   "name": "python3"
  },
  "language_info": {
   "codemirror_mode": {
    "name": "ipython",
    "version": 3
   },
   "file_extension": ".py",
   "mimetype": "text/x-python",
   "name": "python",
   "nbconvert_exporter": "python",
   "pygments_lexer": "ipython3",
   "version": "3.7.0"
  }
 },
 "nbformat": 4,
 "nbformat_minor": 2
}
